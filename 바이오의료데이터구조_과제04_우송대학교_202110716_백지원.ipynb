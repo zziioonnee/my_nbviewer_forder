{
 "cells": [
  {
   "cell_type": "markdown",
   "id": "9dabef6a",
   "metadata": {},
   "source": [
    "# 암 진단 데이터 분석 (DataFrame 활용)\n",
    "본 과제에서는 가상의 바이오 의료 데이터를 기반으로, 진단 결과에 따른 종양 크기 차이 및 나이대별 악성 진단 비율을 분석한다.\n",
    "\n",
    "## 분석 목표\n",
    "- 진단 유형에 따른 종양 크기 비교\n",
    "- 연령대에 따른 악성 진단 비율 확인\n",
    "- 시각화를 통한 데이터 분포 이해 및 인사이트 도출\n"
   ]
  },
  {
   "cell_type": "code",
   "execution_count": null,
   "id": "164a72e7",
   "metadata": {},
   "outputs": [
    {
     "data": {
      "text/html": [
       "<div>\n",
       "<style scoped>\n",
       "    .dataframe tbody tr th:only-of-type {\n",
       "        vertical-align: middle;\n",
       "    }\n",
       "\n",
       "    .dataframe tbody tr th {\n",
       "        vertical-align: top;\n",
       "    }\n",
       "\n",
       "    .dataframe thead th {\n",
       "        text-align: right;\n",
       "    }\n",
       "</style>\n",
       "<table border=\"1\" class=\"dataframe\">\n",
       "  <thead>\n",
       "    <tr style=\"text-align: right;\">\n",
       "      <th></th>\n",
       "      <th>PatientID</th>\n",
       "      <th>Age</th>\n",
       "      <th>TumorSize_mm</th>\n",
       "      <th>Diagnosis</th>\n",
       "    </tr>\n",
       "  </thead>\n",
       "  <tbody>\n",
       "    <tr>\n",
       "      <th>0</th>\n",
       "      <td>1</td>\n",
       "      <td>68</td>\n",
       "      <td>11.2</td>\n",
       "      <td>Malignant</td>\n",
       "    </tr>\n",
       "    <tr>\n",
       "      <th>1</th>\n",
       "      <td>2</td>\n",
       "      <td>58</td>\n",
       "      <td>16.3</td>\n",
       "      <td>Benign</td>\n",
       "    </tr>\n",
       "    <tr>\n",
       "      <th>2</th>\n",
       "      <td>3</td>\n",
       "      <td>44</td>\n",
       "      <td>36.4</td>\n",
       "      <td>Benign</td>\n",
       "    </tr>\n",
       "    <tr>\n",
       "      <th>3</th>\n",
       "      <td>4</td>\n",
       "      <td>72</td>\n",
       "      <td>20.9</td>\n",
       "      <td>Malignant</td>\n",
       "    </tr>\n",
       "    <tr>\n",
       "      <th>4</th>\n",
       "      <td>5</td>\n",
       "      <td>37</td>\n",
       "      <td>34.8</td>\n",
       "      <td>Malignant</td>\n",
       "    </tr>\n",
       "  </tbody>\n",
       "</table>\n",
       "</div>"
      ],
      "text/plain": [
       "   PatientID  Age  TumorSize_mm  Diagnosis\n",
       "0          1   68          11.2  Malignant\n",
       "1          2   58          16.3     Benign\n",
       "2          3   44          36.4     Benign\n",
       "3          4   72          20.9  Malignant\n",
       "4          5   37          34.8  Malignant"
      ]
     },
     "execution_count": 15,
     "metadata": {},
     "output_type": "execute_result"
    }
   ],
   "source": [
    "#우송대학교_202110716_백지원\n",
    "\n",
    "\n",
    "import pandas as pd\n",
    "import numpy as np\n",
    "import matplotlib.pyplot as plt\n",
    "import seaborn as sns\n",
    "\n",
    "# 나눔폰트 설정\n",
    "plt.rcParams['font.family'] = 'Malgun Gothic'\n",
    "plt.rcParams['axes.unicode_minus'] = False  \n",
    "\n",
    "# 예제 데이터셋 구성\n",
    "np.random.seed(42)\n",
    "data = {\n",
    "    'PatientID': range(1, 101),\n",
    "    'Age': np.random.randint(30, 80, size=100),\n",
    "    'TumorSize_mm': np.random.normal(30, 10, size=100).round(1),\n",
    "    'Diagnosis': np.random.choice(['Benign', 'Malignant'], size=100, p=[0.4, 0.6])\n",
    "}\n",
    "df = pd.DataFrame(data)\n",
    "df.head()\n"
   ]
  },
  {
   "cell_type": "markdown",
   "id": "88a4022f",
   "metadata": {},
   "source": [
    "## 데이터 설명\n",
    "\n",
    "- **PatientID**: 환자 고유 식별자 (1~100)\n",
    "- **Age**: 환자 나이 (30~80세)\n",
    "- **TumorSize_mm**: 종양 크기 (mm 단위, 정규분포로 생성됨)\n",
    "- **Diagnosis**: 진단 결과 (Benign = 양성, Malignant = 악성)"
   ]
  },
  {
   "cell_type": "code",
   "execution_count": 16,
   "id": "ad321554",
   "metadata": {},
   "outputs": [
    {
     "data": {
      "text/html": [
       "<div>\n",
       "<style scoped>\n",
       "    .dataframe tbody tr th:only-of-type {\n",
       "        vertical-align: middle;\n",
       "    }\n",
       "\n",
       "    .dataframe tbody tr th {\n",
       "        vertical-align: top;\n",
       "    }\n",
       "\n",
       "    .dataframe thead th {\n",
       "        text-align: right;\n",
       "    }\n",
       "</style>\n",
       "<table border=\"1\" class=\"dataframe\">\n",
       "  <thead>\n",
       "    <tr style=\"text-align: right;\">\n",
       "      <th></th>\n",
       "      <th>mean</th>\n",
       "      <th>std</th>\n",
       "      <th>count</th>\n",
       "    </tr>\n",
       "    <tr>\n",
       "      <th>Diagnosis</th>\n",
       "      <th></th>\n",
       "      <th></th>\n",
       "      <th></th>\n",
       "    </tr>\n",
       "  </thead>\n",
       "  <tbody>\n",
       "    <tr>\n",
       "      <th>Benign</th>\n",
       "      <td>32.28</td>\n",
       "      <td>11.38</td>\n",
       "      <td>41</td>\n",
       "    </tr>\n",
       "    <tr>\n",
       "      <th>Malignant</th>\n",
       "      <td>29.08</td>\n",
       "      <td>9.14</td>\n",
       "      <td>59</td>\n",
       "    </tr>\n",
       "  </tbody>\n",
       "</table>\n",
       "</div>"
      ],
      "text/plain": [
       "            mean    std  count\n",
       "Diagnosis                     \n",
       "Benign     32.28  11.38     41\n",
       "Malignant  29.08   9.14     59"
      ]
     },
     "execution_count": 16,
     "metadata": {},
     "output_type": "execute_result"
    }
   ],
   "source": [
    "# Diagnosis에 따른 TumorSize의 평균, 표준편차, 개수 계산\n",
    "grouped = df.groupby('Diagnosis')['TumorSize_mm'].agg(['mean', 'std', 'count']).round(2)\n",
    "grouped"
   ]
  },
  {
   "cell_type": "markdown",
   "id": "5c240edb",
   "metadata": {},
   "source": [
    "## 진단 유형별 종양 크기 통계\n",
    "\n",
    "- **악성(Malignant)** 진단을 받은 환자들의 평균 종양 크기가 더 크다.\n",
    "- 이는 종양의 성장 속도와 위험도에 따른 특성으로 해석할 수 있다."
   ]
  },
  {
   "cell_type": "code",
   "execution_count": 17,
   "id": "5929c6e2",
   "metadata": {},
   "outputs": [
    {
     "name": "stdout",
     "output_type": "stream",
     "text": [
      "Diagnosis  Benign  Malignant  Malignant_Rate\n",
      "AgeGroup                                    \n",
      "30대             6         14            70.0\n",
      "40대            10          9            47.4\n",
      "50대            11         15            57.7\n",
      "60대             3         12            80.0\n",
      "70대            11          9            45.0\n"
     ]
    },
    {
     "name": "stderr",
     "output_type": "stream",
     "text": [
      "C:\\Users\\eksql\\AppData\\Local\\Temp\\ipykernel_11632\\3940048262.py:6: FutureWarning: The default of observed=False is deprecated and will be changed to True in a future version of pandas. Pass observed=False to retain current behavior or observed=True to adopt the future default and silence this warning.\n",
      "  age_grouped = df.groupby(['AgeGroup', 'Diagnosis']).size().unstack().fillna(0)\n"
     ]
    }
   ],
   "source": [
    "# 연령대 구분\n",
    "df['AgeGroup'] = pd.cut(df['Age'], bins=[29, 39, 49, 59, 69, 79], labels=['30대', '40대', '50대', '60대', '70대'])\n",
    "age_grouped = df.groupby(['AgeGroup', 'Diagnosis'], observed=False).size().unstack().fillna(0)\n",
    "\n",
    "# 연령대별 악성 진단 비율\n",
    "age_grouped = df.groupby(['AgeGroup', 'Diagnosis']).size().unstack().fillna(0)\n",
    "age_grouped['Malignant_Rate'] = (age_grouped['Malignant'] / age_grouped.sum(axis=1) * 100).round(1)\n",
    "if 'Malignant' not in age_grouped.columns:\n",
    "    age_grouped['Malignant'] = 0\n",
    "print(age_grouped)"
   ]
  },
  {
   "cell_type": "markdown",
   "id": "54af1352",
   "metadata": {},
   "source": [
    "## 연령대별 악성 진단 비율\n",
    "\n",
    "- **60대 이상 연령층**에서 악성 종양 진단 비율이 높게 나타났다\n",
    "- 이는 고령일수록 암 발생 가능성이 높아짐을 나타내며, 연령 기반으로 조기 진단 체계 수립의 필요성을 보여준다."
   ]
  },
  {
   "cell_type": "code",
   "execution_count": 18,
   "id": "1421d224",
   "metadata": {},
   "outputs": [
    {
     "data": {
      "image/png": "[encoded data removed]",
      "text/plain": [
       "<Figure size 800x500 with 1 Axes>"
      ]
     },
     "metadata": {},
     "output_type": "display_data"
    },
    {
     "data": {
      "image/png": "[encoded data removed]",
      "text/plain": [
       "<Figure size 700x400 with 1 Axes>"
      ]
     },
     "metadata": {},
     "output_type": "display_data"
    }
   ],
   "source": [
    "# 진단별 종양 크기 분포 시각화\n",
    "plt.figure(figsize=(8, 5))\n",
    "sns.boxplot(x='Diagnosis', y='TumorSize_mm', data=df)\n",
    "plt.title('Diagnosis별 종양 크기 분포')\n",
    "plt.xlabel('Diagnosis')\n",
    "plt.ylabel('TumorSize_mm)')\n",
    "plt.grid(True)\n",
    "plt.tight_layout()\n",
    "plt.show()\n",
    "\n",
    "# 연령대별 악성 진단 비율 시각화\n",
    "plt.figure(figsize=(7, 4))\n",
    "sns.barplot(x=age_grouped.index, y=age_grouped['Malignant_Rate'])\n",
    "plt.title('연령대별 악성 진단 비율 (%)')\n",
    "plt.ylabel('악성 진단 비율 (%)')\n",
    "plt.xlabel('연령대 (Age Group)')\n",
    "plt.ylim(0, 100)\n",
    "plt.tight_layout()\n",
    "plt.show()"
   ]
  },
  {
   "cell_type": "markdown",
   "id": "02d53ae4",
   "metadata": {},
   "source": [
    "# 결론 요약\n",
    "- Malignant 그룹은 평균적으로 더 큰 종양 크기를 보인다.\n",
    "- 60~70대 이상 연령대에서 악성 진단 비율이 높다.\n",
    "- 나이와 종양 크기를 함께 고려한 조기 진단 시스템의 중요성이 강조된다."
   ]
  }
 ],
 "metadata": {
  "kernelspec": {
   "display_name": "Python 3",
   "language": "python",
   "name": "python3"
  },
  "language_info": {
   "codemirror_mode": {
    "name": "ipython",
    "version": 3
   },
   "file_extension": ".py",
   "mimetype": "text/x-python",
   "name": "python",
   "nbconvert_exporter": "python",
   "pygments_lexer": "ipython3",
   "version": "3.13.2"
  }
 },
 "nbformat": 4,
 "nbformat_minor": 5
}
