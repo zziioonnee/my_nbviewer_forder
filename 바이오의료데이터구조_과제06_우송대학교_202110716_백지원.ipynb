{
 "cells": [
  {
   "cell_type": "markdown",
   "id": "5dabcfa4",
   "metadata": {},
   "source": [
    "<h1> DNA의 무작위 염기서열 생성\n",
    "<h4> 파이썬의 random()을 이용하여 DNA 염기서열을 무작위로 생성하는 방법"
   ]
  },
  {
   "cell_type": "code",
   "execution_count": null,
   "id": "0c6b5de2",
   "metadata": {},
   "outputs": [
    {
     "name": "stdout",
     "output_type": "stream",
     "text": [
      "CTTCCCTGAG\n"
     ]
    }
   ],
   "source": [
    "#우송대학교_202110716_백지원\n",
    "\n",
    "import random\n",
    "\n",
    "# 생성하고자 하는 DNA의 길이\n",
    "len_seq = 10\n",
    "\n",
    "# 빈 문자열을 생성\n",
    "dna_seq=''\n",
    "\n",
    "# A, C, G, T 중 하나를 무작위로 선택하여 DNA 염기서열을 생성하여 dna_seq에 추가\n",
    "for i in range(len_seq):\n",
    "    dna_seq += random.choice('ACGT')\n",
    "\n",
    "print(dna_seq)"
   ]
  },
  {
   "cell_type": "markdown",
   "id": "c4fe9cde",
   "metadata": {},
   "source": [
    "<h4> 리스트 컴프리헨션을 이용하여 DNA 염기서열을 생성하는 방법"
   ]
  },
  {
   "cell_type": "code",
   "execution_count": 2,
   "id": "c62557bb",
   "metadata": {},
   "outputs": [
    {
     "name": "stdout",
     "output_type": "stream",
     "text": [
      "seq = ['G', 'G', 'C', 'G', 'A', 'A', 'A', 'T', 'A', 'T']\n",
      "dna_seq = 'GGCGAAATAT'\n"
     ]
    }
   ],
   "source": [
    "# 생성하고자 하는 DNA의 길이\n",
    "len_seq = 10\n",
    "\n",
    "# 리스트 컴프리헨션을 사용하여 DNA 염기서열을 생성\n",
    "seq = [random.choice('ACGT') for i in range(len_seq)]\n",
    "print(f'{seq = }')\n",
    "\n",
    "#리스트를 문자열로 변환\n",
    "dna_seq = ''.join(seq)\n",
    "print(f'{dna_seq = }')"
   ]
  },
  {
   "cell_type": "markdown",
   "id": "d936f929",
   "metadata": {},
   "source": [
    "<h4> numpy의 randomm.choice()를 이용하여 일정 비율로 A, T, C, G를 선택하여 BNA 염기서열열을 생성하는 방법"
   ]
  },
  {
   "cell_type": "code",
   "execution_count": 3,
   "id": "6d188822",
   "metadata": {},
   "outputs": [
    {
     "name": "stdout",
     "output_type": "stream",
     "text": [
      "seq = array(['G', 'T', 'C', 'T', 'T', 'A', 'G', 'A', 'G', 'G'], dtype='<U1')\n",
      "dna_seq = 'GTCTTAGAGG'\n"
     ]
    }
   ],
   "source": [
    "import numpy as np\n",
    "\n",
    "# 생성하고자 하는 DNA의 길이와 각 염기의 확률\n",
    "len_seq = 10\n",
    "nucleotides = ['A', 'T', 'C', 'G']\n",
    "ratio = [0.1, 0.2, 0.3, 0.4]\n",
    "\n",
    "# A, T, C, G를 각 확률에 따라 랜덤하게 생성 -> numpy array로 반환\n",
    "seq = np.random.choice(nucleotides, len_seq, p=ratio)\n",
    "print(f'{seq = }')\n",
    "\n",
    "# 리스트를 문자열로 변환\n",
    "dna_seq = ''.join(seq)\n",
    "print(f'{dna_seq = }')"
   ]
  },
  {
   "cell_type": "markdown",
   "id": "8e691e0a",
   "metadata": {},
   "source": [
    "<h4> DNA염기서열의 길이 확인"
   ]
  },
  {
   "cell_type": "code",
   "execution_count": 4,
   "id": "73ebdf83",
   "metadata": {},
   "outputs": [
    {
     "data": {
      "text/plain": [
       "50"
      ]
     },
     "execution_count": 4,
     "metadata": {},
     "output_type": "execute_result"
    }
   ],
   "source": [
    "len_seq = 50\n",
    "nucleotides = ['A', 'T', 'C', 'G']\n",
    "ratio = [0.15, 0.25, 0.4, 0.2]\n",
    "\n",
    "dna_seq = ''.join(np.random.choice(nucleotides, len_seq, p=ratio))\n",
    "len(dna_seq)"
   ]
  },
  {
   "cell_type": "markdown",
   "id": "3eab59ee",
   "metadata": {},
   "source": [
    "<h1>뉴크레오티드 빈도 계산 및 시각화\n",
    "<h2>뉴클레오티드 빈도 계산\n",
    "<h4>주어진 DNA 염기서열에서 각 뉴클레오티드(A, T, C, G)의 빈도를 계산\n",
    "<h4>게놈의 전반적인 균형 또는 편향을 파악하는데 유용"
   ]
  },
  {
   "cell_type": "code",
   "execution_count": 5,
   "id": "20ede692",
   "metadata": {},
   "outputs": [
    {
     "name": "stdout",
     "output_type": "stream",
     "text": [
      "num_nucleotide = {'A': 0, 'B': 0}\n"
     ]
    }
   ],
   "source": [
    "# 딕셔너리의 동작 원리 이해\n",
    "\n",
    "# A, B 염기의 개수를 저장할 딕셔너리 생성\n",
    "num_nucleotide = {'A': 0, 'B':0}\n",
    "print(f'{num_nucleotide = }')\n"
   ]
  },
  {
   "cell_type": "code",
   "execution_count": 6,
   "id": "c791887b",
   "metadata": {},
   "outputs": [
    {
     "name": "stdout",
     "output_type": "stream",
     "text": [
      "\"A\" in num_nucleotide = True\n",
      "num_nucleotide[\"A\"] = 0\n"
     ]
    }
   ],
   "source": [
    "\n",
    "# A 염기가 딕셔너리의 키로 존재하는지 확인\n",
    "print(f'{\"A\" in num_nucleotide = }')\n",
    "\n",
    "# 키가 A인 염기의 값을 출력\n",
    "print(f'{num_nucleotide[\"A\"] = }')\n",
    "\n",
    "# A 염기의 개수를 1 증가\n",
    "num_nucleotide['A'] =+ 1\n",
    "\n",
    "# B 염기의 개수를 10 증가\n",
    "num_nucleotide['B'] += 10"
   ]
  },
  {
   "cell_type": "code",
   "execution_count": 7,
   "id": "7a328f27",
   "metadata": {},
   "outputs": [
    {
     "name": "stdout",
     "output_type": "stream",
     "text": [
      "{'A': 9, 'T': 8, 'C': 20, 'G': 13}\n"
     ]
    }
   ],
   "source": [
    "# DNA 염기서열에서 각 염기의 개수를 세는 함수\n",
    "def count_nucleotides(seq):\n",
    "\n",
    "    # A, T, C, G의 개수를 저장할 딕셔너리 생성\n",
    "    num_nucleotides = {'A' : 0, 'T' : 0 , 'C' : 0, 'G' : 0}\n",
    "\n",
    "    # DNA 염기서열에서 각 염기를 하나씩 읽어서 딕셔너리에 추가\n",
    "    for nucleotide in seq:\n",
    "        # 딕셔너리에 해당 염기가 있으면 개수를 1 증가\n",
    "        if nucleotide in num_nucleotides:\n",
    "            num_nucleotides[nucleotide] += 1\n",
    "\n",
    "    # 결과를 반환\n",
    "    return num_nucleotides\n",
    "        \n",
    "# dna_seq에서 각 염기의 개수를 세는 함수 호출\n",
    "dict_nucleotide = count_nucleotides(dna_seq)\n",
    "\n",
    "# 결과 출력\n",
    "print(dict_nucleotide)"
   ]
  },
  {
   "cell_type": "markdown",
   "id": "02ded39f",
   "metadata": {},
   "source": [
    "<h1>뉴클레오티드 빈도 시각화\n",
    "<h4>seaborn 라이브러리는 데이터 프레임이 다루기 용이하므로 딕셔너리를 데이터프레임으로 변환"
   ]
  },
  {
   "cell_type": "code",
   "execution_count": 8,
   "id": "8dceb078",
   "metadata": {},
   "outputs": [
    {
     "data": {
      "text/html": [
       "<div>\n",
       "<style scoped>\n",
       "    .dataframe tbody tr th:only-of-type {\n",
       "        vertical-align: middle;\n",
       "    }\n",
       "\n",
       "    .dataframe tbody tr th {\n",
       "        vertical-align: top;\n",
       "    }\n",
       "\n",
       "    .dataframe thead th {\n",
       "        text-align: right;\n",
       "    }\n",
       "</style>\n",
       "<table border=\"1\" class=\"dataframe\">\n",
       "  <thead>\n",
       "    <tr style=\"text-align: right;\">\n",
       "      <th></th>\n",
       "      <th>count</th>\n",
       "    </tr>\n",
       "  </thead>\n",
       "  <tbody>\n",
       "    <tr>\n",
       "      <th>A</th>\n",
       "      <td>9</td>\n",
       "    </tr>\n",
       "    <tr>\n",
       "      <th>T</th>\n",
       "      <td>8</td>\n",
       "    </tr>\n",
       "    <tr>\n",
       "      <th>C</th>\n",
       "      <td>20</td>\n",
       "    </tr>\n",
       "    <tr>\n",
       "      <th>G</th>\n",
       "      <td>13</td>\n",
       "    </tr>\n",
       "  </tbody>\n",
       "</table>\n",
       "</div>"
      ],
      "text/plain": [
       "   count\n",
       "A      9\n",
       "T      8\n",
       "C     20\n",
       "G     13"
      ]
     },
     "metadata": {},
     "output_type": "display_data"
    }
   ],
   "source": [
    "# 데이터프레임 사용을 위한 라이브러리 임포트\n",
    "import pandas as pd\n",
    "\n",
    "# 시각화를 위한 라이브러리 임포트\n",
    "import seaborn as sns\n",
    "import matplotlib.pyplot as plt\n",
    "\n",
    "# DNA 염기서열을 데이터프레임으로 변환\n",
    "df_nucleotide = pd.DataFrame(\n",
    "\n",
    "    # 딕셔너리의 키를 인덱스로, 같은 데이터로 사용\n",
    "    index = dict_nucleotide.keys(),\n",
    "    data = dict_nucleotide.values(),\n",
    "\n",
    "    # 열 이름을 count로 지정\n",
    "    columns = ['count']\n",
    "    )\n",
    "\n",
    "# 데이터프레임 출력\n",
    "display(df_nucleotide)\n"
   ]
  },
  {
   "cell_type": "code",
   "execution_count": 9,
   "id": "5a5b924d",
   "metadata": {},
   "outputs": [
    {
     "data": {
      "text/html": [
       "<div>\n",
       "<style scoped>\n",
       "    .dataframe tbody tr th:only-of-type {\n",
       "        vertical-align: middle;\n",
       "    }\n",
       "\n",
       "    .dataframe tbody tr th {\n",
       "        vertical-align: top;\n",
       "    }\n",
       "\n",
       "    .dataframe thead th {\n",
       "        text-align: right;\n",
       "    }\n",
       "</style>\n",
       "<table border=\"1\" class=\"dataframe\">\n",
       "  <thead>\n",
       "    <tr style=\"text-align: right;\">\n",
       "      <th></th>\n",
       "      <th>count</th>\n",
       "      <th>ratio</th>\n",
       "    </tr>\n",
       "  </thead>\n",
       "  <tbody>\n",
       "    <tr>\n",
       "      <th>A</th>\n",
       "      <td>9</td>\n",
       "      <td>0.18</td>\n",
       "    </tr>\n",
       "    <tr>\n",
       "      <th>T</th>\n",
       "      <td>8</td>\n",
       "      <td>0.16</td>\n",
       "    </tr>\n",
       "    <tr>\n",
       "      <th>C</th>\n",
       "      <td>20</td>\n",
       "      <td>0.40</td>\n",
       "    </tr>\n",
       "    <tr>\n",
       "      <th>G</th>\n",
       "      <td>13</td>\n",
       "      <td>0.26</td>\n",
       "    </tr>\n",
       "  </tbody>\n",
       "</table>\n",
       "</div>"
      ],
      "text/plain": [
       "   count  ratio\n",
       "A      9   0.18\n",
       "T      8   0.16\n",
       "C     20   0.40\n",
       "G     13   0.26"
      ]
     },
     "metadata": {},
     "output_type": "display_data"
    }
   ],
   "source": [
    "# 각 염기의 개수를 비율로 계산하여 새로운 열 ratio로 추가\n",
    "df_nucleotide = df_nucleotide.assign(\n",
    "    ratio = df_nucleotide['count'] / df_nucleotide['count'].sum()\n",
    "    )\n",
    "\n",
    "# 데이터프레임 출력\n",
    "display(df_nucleotide)\n"
   ]
  },
  {
   "cell_type": "markdown",
   "id": "1d1a1ea8",
   "metadata": {},
   "source": [
    "<h4>뉴클레오티드(A, T, C, G)의 빈도를 막대 그래프로 시각화"
   ]
  },
  {
   "cell_type": "code",
   "execution_count": 10,
   "id": "6363ae1e",
   "metadata": {},
   "outputs": [
    {
     "data": {
      "image/png": "[encoded data removed]",
      "text/plain": [
       "<Figure size 640x480 with 1 Axes>"
      ]
     },
     "metadata": {},
     "output_type": "display_data"
    }
   ],
   "source": [
    "# 막대 그래프 객체를 생성\n",
    "ax = sns.barplot(\n",
    "    df_nucleotide,              #사용할 데이터프레임명\n",
    "    x=df_nucleotide.index,      # x축에 사용할 열 이름\n",
    "    y='ratio',                  # y축에 사용할 열 이름\n",
    "    hue=df_nucleotide.index,    # 막대 그래프 색상을 다르게 표시할 이름\n",
    "    order=df_nucleotide.index   # x축에 표시할 순서\n",
    "    )\n",
    "\n",
    "# 그래프 제목 설정\n",
    "ax.set_title('nucleotide Frequency')\n",
    "\n",
    "# x축 레이블 설정\n",
    "ax.set_xlabel('nucleotide')\n",
    "\n",
    "# y축 레이블 설정\n",
    "ax.set_ylabel('Ratio')\n",
    "\n",
    "# 긴 막대 그래프에 비율을 표시. container는 막대 그래프 객체\n",
    "for i in ax.containers:\n",
    "    ax.bar_label(i, label_type='edge')\n",
    "\n",
    "# 그래프 출력\n",
    "plt.show()    "
   ]
  },
  {
   "cell_type": "markdown",
   "id": "aad4ff36",
   "metadata": {},
   "source": [
    "<h1> 함량 계산\n",
    "<h3> GC 함량(GC-Content)\n",
    "\n",
    "<h4> GC 함량은 DNA 또는 RNA에서의 구아닌과 사이토신의 백분율\n",
    "<h4> GC 함량은 DNA의 안정성과 상관관계가 있으면, 생물정보학 및 분자생물학의 기본 지표\n",
    "<h4> GC함량이 높을수록 DNA의 밀도와 안정성이 높은\n",
    "<h4> GC는 3개의 소수결합A-T는 2개의 수소 결합을 형성하나 안정성과는 크게 관련이 없다고 함\n",
    "<h4> GC 함량이 높을수록 유전자가 풍부한 영역을 나타내는 경우가 많고, GC 함량이 낮으면 반복적이거나 암호화되지 않은 영역을 나타낼 수 있음\n",
    "<h4> 같은 종은 고유한 GC%를 가지고 있어서 중 간 GC 함량을 비교하여 유기체를 식별하고 계통발생학적으로 분류하는데 사용할 수 있음"
   ]
  },
  {
   "cell_type": "markdown",
   "id": "b0146912",
   "metadata": {},
   "source": [
    "<h4>GC 함량 계산"
   ]
  },
  {
   "cell_type": "code",
   "execution_count": 11,
   "id": "eab3a22f",
   "metadata": {},
   "outputs": [
    {
     "name": "stdout",
     "output_type": "stream",
     "text": [
      "GC Content: 66.00%\n"
     ]
    }
   ],
   "source": [
    "# DNA 염기서열에서 GC content를 계산하는 함수 정의\n",
    "def calculateGCCOntent(seq):\n",
    "\n",
    "    # sec에서 G, C의 개수를 세어 gc_count에 저장\n",
    "    gc_count = seq.count('G') + seq.count('C')\n",
    "\n",
    "    #gc_count를 seq의 길이로 나누어 GC content를 계싼\n",
    "    return (gc_count / len(seq)) * 100\n",
    "\n",
    "# DNA 염기서열에서 GC content 게산\n",
    "gc_content = calculateGCCOntent(dna_seq)\n",
    "\n",
    "# GC content 출력, 소수점 2자리까지 표시\n",
    "print(f\"GC Content: {gc_content:.2f}%\")"
   ]
  },
  {
   "cell_type": "markdown",
   "id": "e0e33f5c",
   "metadata": {},
   "source": [
    "<h1>구간별 GC 함량 변화 계산 및 시각화\n",
    "<h4>일정한 구간에 대한 GC함량을 계산"
   ]
  },
  {
   "cell_type": "code",
   "execution_count": 12,
   "id": "84b13fec",
   "metadata": {},
   "outputs": [
    {
     "data": {
      "text/html": [
       "<div>\n",
       "<style scoped>\n",
       "    .dataframe tbody tr th:only-of-type {\n",
       "        vertical-align: middle;\n",
       "    }\n",
       "\n",
       "    .dataframe tbody tr th {\n",
       "        vertical-align: top;\n",
       "    }\n",
       "\n",
       "    .dataframe thead th {\n",
       "        text-align: right;\n",
       "    }\n",
       "</style>\n",
       "<table border=\"1\" class=\"dataframe\">\n",
       "  <thead>\n",
       "    <tr style=\"text-align: right;\">\n",
       "      <th></th>\n",
       "      <th>position</th>\n",
       "      <th>GC Content</th>\n",
       "    </tr>\n",
       "  </thead>\n",
       "  <tbody>\n",
       "    <tr>\n",
       "      <th>0</th>\n",
       "      <td>0</td>\n",
       "      <td>60.0</td>\n",
       "    </tr>\n",
       "    <tr>\n",
       "      <th>1</th>\n",
       "      <td>10</td>\n",
       "      <td>40.0</td>\n",
       "    </tr>\n",
       "    <tr>\n",
       "      <th>2</th>\n",
       "      <td>20</td>\n",
       "      <td>80.0</td>\n",
       "    </tr>\n",
       "    <tr>\n",
       "      <th>3</th>\n",
       "      <td>30</td>\n",
       "      <td>80.0</td>\n",
       "    </tr>\n",
       "    <tr>\n",
       "      <th>4</th>\n",
       "      <td>40</td>\n",
       "      <td>70.0</td>\n",
       "    </tr>\n",
       "  </tbody>\n",
       "</table>\n",
       "</div>"
      ],
      "text/plain": [
       "   position  GC Content\n",
       "0         0        60.0\n",
       "1        10        40.0\n",
       "2        20        80.0\n",
       "3        30        80.0\n",
       "4        40        70.0"
      ]
     },
     "metadata": {},
     "output_type": "display_data"
    }
   ],
   "source": [
    "def calculateGCCOntentSliding(seq, window_size=10):\n",
    "\n",
    "    # 구간 크기에 따른 시작점 계산\n",
    "    start_points = range(0, len(seq) - window_size + 1, window_size)\n",
    "\n",
    "    # 구간별 GX content를 계산하여 리스트로 저장\n",
    "    gc_values = [calculateGCCOntent(seq[i:i+window_size]) for i in start_points]\n",
    "\n",
    "    return pd.DataFrame({'position': start_points, 'GC Content': gc_values})\n",
    "\n",
    "# DNA 염기서열에서 일정한 구간을 나누어 GC content 계산\n",
    "window_size = 10\n",
    "df_gc_content = calculateGCCOntentSliding(dna_seq, window_size)\n",
    "\n",
    "# GC content 출력\n",
    "display(df_gc_content.head())"
   ]
  },
  {
   "cell_type": "markdown",
   "id": "c7f60742",
   "metadata": {},
   "source": [
    "<h3>전체 DNA 염기서열에 대한 GC 함량의 박스플롯 시각화\n",
    "<h4>박스플롯은 데이터의 중앙값, 사분위수, 국단값을 시각화하여 데이터의 분포를 파악하는데 유용\n",
    "<h4>박스플롯을 통해 DNA 염기서열의 GC 함량 분호를 파악"
   ]
  },
  {
   "cell_type": "code",
   "execution_count": 13,
   "id": "dd029101",
   "metadata": {},
   "outputs": [
    {
     "data": {
      "image/png": "[encoded data removed]",
      "text/plain": [
       "<Figure size 640x480 with 1 Axes>"
      ]
     },
     "metadata": {},
     "output_type": "display_data"
    }
   ],
   "source": [
    "import koreanize_matplotlib\n",
    "\n",
    "sns.boxplot(\n",
    "    data=df_gc_content,\n",
    "    y='GC Content'\n",
    "    )\n",
    "\n",
    "# 그래프 제목 설정\n",
    "plt.title('GC Content (%)')\n",
    "\n",
    "# 그래프 출력\n",
    "plt.show()"
   ]
  },
  {
   "cell_type": "markdown",
   "id": "149d286f",
   "metadata": {},
   "source": [
    "<h3>전체 DNA 염기서열에 대한 GC 함량의 변화를 시각화\n",
    "<h4>GC 함량에서의 변화는 특정 기능 또는 생물학적 중용성을 나타낼 수 있음"
   ]
  },
  {
   "cell_type": "code",
   "execution_count": 14,
   "id": "2527e2cb",
   "metadata": {},
   "outputs": [
    {
     "data": {
      "image/png": "[encoded data removed]",
      "text/plain": [
       "<Figure size 640x480 with 1 Axes>"
      ]
     },
     "metadata": {},
     "output_type": "display_data"
    }
   ],
   "source": [
    "sns.lineplot(\n",
    "    data=df_gc_content, # 사용할 데이터프레임명\n",
    "    x='position',       # x축에 사용할 열 이름\n",
    "    y='GC Content',     # y축에 사용할 열 이름\n",
    "    marker='o',         # 마커 표시\n",
    "    markersize=5,       # 마커 크기\n",
    "    alpha=0.5           # 투명도 설정\n",
    "    );\n",
    "\n",
    "# 그래프 제목 설정\n",
    "plt.title(f'DNA 위치에 따른 GC Content의 변화(구간 크기: {window_size})')\n",
    "\n",
    "# x축 레이블 설정\n",
    "plt.xlabel('position')\n",
    "\n",
    "# y축 레이블 설정\n",
    "plt.ylabel(' GC Content (%)')\n",
    "\n",
    "# 그래프 출력\n",
    "plt.show()"
   ]
  },
  {
   "cell_type": "markdown",
   "id": "26dc1bd8",
   "metadata": {},
   "source": [
    "<h1> A-T/G-C 비율"
   ]
  },
  {
   "cell_type": "markdown",
   "id": "a0f25bf6",
   "metadata": {},
   "source": [
    "<h4>DNA의 염기서열은 Adhk T, C와 G가 서로 상보적인 관계를 가짐\n",
    "<h4>A/T=G/C비율은 각 생물에 따라 다름\n",
    "<h4>고등동물: 42% 전후의 좁은 범위의 값\n",
    "<h4>세균: 25~75%로 종에 따른 차이가 큼"
   ]
  },
  {
   "cell_type": "markdown",
   "id": "3f271b71",
   "metadata": {},
   "source": [
    "<h2>A-T/G-C 비율 계산"
   ]
  },
  {
   "cell_type": "code",
   "execution_count": 15,
   "id": "05c3f954",
   "metadata": {},
   "outputs": [
    {
     "name": "stdout",
     "output_type": "stream",
     "text": [
      "AT/GC Ratio: 51.52\n"
     ]
    }
   ],
   "source": [
    "# DNA 염기서열에서 GC content를 계산하는 함수 정의\n",
    "def calculateATGCRaio(seq):\n",
    "\n",
    "    # sec에서 A, T의 개수를 세어 at_count에 저장\n",
    "    at_count = seq.count('A') + seq.count('T')\n",
    "\n",
    "    # sec에서 G, C의 개수를 세어 gc_count에 저장\n",
    "    gc_count = seq.count('G') + seq.count('C')\n",
    "\n",
    "    # at_count를  gc_count로 나누어 AT/GC비율을 계싼\n",
    "    return (at_count / gc_count) * 100\n",
    "\n",
    "# DNA 염기서열에서 AT/GC 비율 계싼\n",
    "atgc_ratio = calculateATGCRaio(dna_seq)\n",
    "\n",
    "# AT/GC 비율 출력, 소수점 2자리까지 표시\n",
    "print(f\"AT/GC Ratio: {atgc_ratio:.2f}\")"
   ]
  },
  {
   "cell_type": "markdown",
   "id": "dba4de94",
   "metadata": {},
   "source": [
    "<h1>DNA의 염기서열을 역상보적인 관계로 변환\n",
    "<h4>각 뉴클레오티드가 상보적 염기(A-T, C-G)로 대체되고 전체 염기서열이 역전되어 RNA 염기서열을 생성"
   ]
  },
  {
   "cell_type": "code",
   "execution_count": 16,
   "id": "cd81a4d5",
   "metadata": {},
   "outputs": [
    {
     "name": "stdout",
     "output_type": "stream",
     "text": [
      "ATCG\n",
      "CGAT\n"
     ]
    }
   ],
   "source": [
    "# DNA 염기서열의 상보적 서열을 생성하는 함수 정의\n",
    "def reverseComplement(seq):\n",
    "\n",
    "    # 상보 관계 딕셔너리 생성\n",
    "    complement_relation = {'A': 'T', 'T': 'A', 'C': 'G', 'G': 'C'}\n",
    "\n",
    "    # 염기서열을 역순으로 변경\n",
    "    seq_reverse = seq[::-1]\n",
    "\n",
    "    # 상보 관계를 이용하여 상보적 서열 리스트 생성\n",
    "    seq_reverse_complment = [complement_relation[nuc] for nuc in seq_reverse]\n",
    "\n",
    "    # 리스트를 문자열로 변환하여 반화\n",
    "    return ''.join(seq_reverse_complment)\n",
    "\n",
    "# DNA 염기서열의 상보적 서열 생성\n",
    "dna_reverse_complement = reverseComplement(dna_seq)\n",
    "\n",
    "# DNA 염기서열 출력\n",
    "test_seq = 'ATCG'\n",
    "print(test_seq)\n",
    "\n",
    "# 상보적 서열 출력\n",
    "print(reverseComplement(test_seq))"
   ]
  },
  {
   "cell_type": "markdown",
   "id": "2176903a",
   "metadata": {},
   "source": [
    "<h!> DNA 염기서열을 RNA로 전사\n",
    "<h4> DNA의 염기 티민이 RNA의 우라실로 대체"
   ]
  },
  {
   "cell_type": "code",
   "execution_count": 17,
   "id": "023a50b6",
   "metadata": {},
   "outputs": [
    {
     "name": "stdout",
     "output_type": "stream",
     "text": [
      "DNA Sequence: GAGTCACCAGTTTCCTCTACTCCGGTCCCGAGCCCCGGCAAACGGCAGCG\n",
      "RNA Sequence: CGCUGCCGUUUGCCGGGGCUCGGGACCGGAGUAGAGGAAACUGGUGACUC\n"
     ]
    }
   ],
   "source": [
    "# DNA 염기서열을 전사하여 RNA 염기서열을 생성하는 함수 정의\n",
    "def transcriptDNA(seq):\n",
    "\n",
    "    # 역상보적 서열을 생성\n",
    "    seq_reverse_comlement = reverseComplement(seq)\n",
    "\n",
    "    # 염기서열에서 T를 U로 변환하여 RNA 염기서열을 생성\n",
    "    return seq_reverse_comlement.replace('T', 'U')\n",
    "\n",
    "# DNA 염기서열과 전사된 RNA 염기서열의 앞부분 20개 출력\n",
    "print(f'DNA Sequence: {dna_seq}')\n",
    "print(f'RNA Sequence: {transcriptDNA(dna_seq)}')\n"
   ]
  },
  {
   "cell_type": "markdown",
   "id": "71b18662",
   "metadata": {},
   "source": [
    "<h1>번역(Translation)과정\n",
    "<h4>번역은 mRNA에서 아미노산으로의 매칭 과정\n",
    "<h4>코돈에서 DNA를 판독하여, 각 코돈에 해당되는 특정 아미노산의 시퀀스를 생성\n",
    "<h4>RNA의 코돈과 아미노산의 매핑 테이블"
   ]
  },
  {
   "cell_type": "markdown",
   "id": "2d6830bf",
   "metadata": {},
   "source": [
    "<h2> 코돈 테이블 생성"
   ]
  },
  {
   "cell_type": "code",
   "execution_count": 18,
   "id": "2d94a640",
   "metadata": {},
   "outputs": [
    {
     "data": {
      "text/html": [
       "<div>\n",
       "<style scoped>\n",
       "    .dataframe tbody tr th:only-of-type {\n",
       "        vertical-align: middle;\n",
       "    }\n",
       "\n",
       "    .dataframe tbody tr th {\n",
       "        vertical-align: top;\n",
       "    }\n",
       "\n",
       "    .dataframe thead th {\n",
       "        text-align: right;\n",
       "    }\n",
       "</style>\n",
       "<table border=\"1\" class=\"dataframe\">\n",
       "  <thead>\n",
       "    <tr style=\"text-align: right;\">\n",
       "      <th></th>\n",
       "      <th>codon</th>\n",
       "      <th>letter</th>\n",
       "      <th>abbreviation</th>\n",
       "      <th>fullname</th>\n",
       "    </tr>\n",
       "  </thead>\n",
       "  <tbody>\n",
       "    <tr>\n",
       "      <th>0</th>\n",
       "      <td>UUU</td>\n",
       "      <td>F</td>\n",
       "      <td>Phe</td>\n",
       "      <td>Phenylalanine</td>\n",
       "    </tr>\n",
       "    <tr>\n",
       "      <th>1</th>\n",
       "      <td>UUC</td>\n",
       "      <td>F</td>\n",
       "      <td>Phe</td>\n",
       "      <td>Phenylalanine</td>\n",
       "    </tr>\n",
       "    <tr>\n",
       "      <th>2</th>\n",
       "      <td>UUA</td>\n",
       "      <td>L</td>\n",
       "      <td>Leu</td>\n",
       "      <td>Leucine</td>\n",
       "    </tr>\n",
       "    <tr>\n",
       "      <th>3</th>\n",
       "      <td>UUG</td>\n",
       "      <td>L</td>\n",
       "      <td>Leu</td>\n",
       "      <td>Leucine</td>\n",
       "    </tr>\n",
       "    <tr>\n",
       "      <th>4</th>\n",
       "      <td>CUU</td>\n",
       "      <td>L</td>\n",
       "      <td>Leu</td>\n",
       "      <td>Leucine</td>\n",
       "    </tr>\n",
       "    <tr>\n",
       "      <th>...</th>\n",
       "      <td>...</td>\n",
       "      <td>...</td>\n",
       "      <td>...</td>\n",
       "      <td>...</td>\n",
       "    </tr>\n",
       "    <tr>\n",
       "      <th>59</th>\n",
       "      <td>AGG</td>\n",
       "      <td>R</td>\n",
       "      <td>Arg</td>\n",
       "      <td>Arginine</td>\n",
       "    </tr>\n",
       "    <tr>\n",
       "      <th>60</th>\n",
       "      <td>GGU</td>\n",
       "      <td>G</td>\n",
       "      <td>Gly</td>\n",
       "      <td>Glycine</td>\n",
       "    </tr>\n",
       "    <tr>\n",
       "      <th>61</th>\n",
       "      <td>GGC</td>\n",
       "      <td>G</td>\n",
       "      <td>Gly</td>\n",
       "      <td>Glycine</td>\n",
       "    </tr>\n",
       "    <tr>\n",
       "      <th>62</th>\n",
       "      <td>GGA</td>\n",
       "      <td>G</td>\n",
       "      <td>Gly</td>\n",
       "      <td>Glycine</td>\n",
       "    </tr>\n",
       "    <tr>\n",
       "      <th>63</th>\n",
       "      <td>GGG</td>\n",
       "      <td>G</td>\n",
       "      <td>Gly</td>\n",
       "      <td>Glycine</td>\n",
       "    </tr>\n",
       "  </tbody>\n",
       "</table>\n",
       "<p>64 rows × 4 columns</p>\n",
       "</div>"
      ],
      "text/plain": [
       "   codon letter abbreviation       fullname\n",
       "0    UUU      F          Phe  Phenylalanine\n",
       "1    UUC      F          Phe  Phenylalanine\n",
       "2    UUA      L          Leu        Leucine\n",
       "3    UUG      L          Leu        Leucine\n",
       "4    CUU      L          Leu        Leucine\n",
       "..   ...    ...          ...            ...\n",
       "59   AGG      R          Arg       Arginine\n",
       "60   GGU      G          Gly        Glycine\n",
       "61   GGC      G          Gly        Glycine\n",
       "62   GGA      G          Gly        Glycine\n",
       "63   GGG      G          Gly        Glycine\n",
       "\n",
       "[64 rows x 4 columns]"
      ]
     },
     "metadata": {},
     "output_type": "display_data"
    }
   ],
   "source": [
    "# 코돈 테이블 파일을 읽어 데잍터프레임으로 변환\n",
    "codon_table = pd.read_csv(\n",
    "    'genetic_code.tsv',     # 파일경로\n",
    "    sep='\\t',\n",
    "    names=['codon', 'letter', 'abbreviation', 'fullname'],  # 열 이름 지정정\n",
    "    )\n",
    "\n",
    "# 코돈 테이블 출력\n",
    "display(codon_table)"
   ]
  },
  {
   "cell_type": "markdown",
   "id": "6ea59ce2",
   "metadata": {},
   "source": [
    "<h2>mRAN 염기서열을 아미노산으로 번역"
   ]
  },
  {
   "cell_type": "code",
   "execution_count": 19,
   "id": "13c1d808",
   "metadata": {},
   "outputs": [
    {
     "name": "stdout",
     "output_type": "stream",
     "text": [
      "R-C-R-L-P-G-L-G-T-G-V-E-E-T-G-D\n",
      "Arg-Cys-Arg-Leu-Pro-Gly-Leu-Gly-Thr-Gly-Val-Glu-Glu-Thr-Gly-Asp\n"
     ]
    }
   ],
   "source": [
    "def translateRNA(seq, codon_table, type='letter'):\n",
    "\n",
    "    # RNA 염기서열을 3개씩 나누어 리스트로 저장\n",
    "    codons = [seq[i:i+3] for i in range(0, len(seq), 3)]\n",
    "\n",
    "    # 코돈 테이블을 딕셔너리로 변환\n",
    "    codon_dict = dict(zip(codon_table['codon'], codon_table[type]))\n",
    "\n",
    "    # 코돈을 아미노산으로 변호ㅑㅏㄴ\n",
    "    amino_acids = [codon_dict[codon] for codon in codons if codon in codon_dict]\n",
    "\n",
    "    # 리스트를 문자열로 변환아여 반환\n",
    "    return '-'.join(amino_acids)\n",
    "\n",
    "# RNA 염기서열을 아미노산 서열로 번역\n",
    "# type='letter'/'abbreviation'/'fullname'로 출력 형식 변경 가능\n",
    "seq_amino_acid = translateRNA(transcriptDNA(dna_seq), codon_table, type='letter')\n",
    "\n",
    "# 아미노산 서열  출력\n",
    "print(seq_amino_acid)\n",
    "\n",
    "# type = 'abbreviation'로 출력 형식 변경\n",
    "seq_amino_acid = translateRNA(transcriptDNA(dna_seq), codon_table, type='abbreviation')\n",
    "print(seq_amino_acid)\n"
   ]
  },
  {
   "cell_type": "markdown",
   "id": "d93aff84",
   "metadata": {},
   "source": [
    "<h1> + DNA 서열에서 각 염기 비율 계산\n",
    "\n",
    "<h3> - 무작위 생성된 DNA 염기서열의 등장 횟수와 비율을 계산했다."
   ]
  },
  {
   "cell_type": "code",
   "execution_count": 20,
   "id": "bb21762f",
   "metadata": {},
   "outputs": [
    {
     "name": "stdout",
     "output_type": "stream",
     "text": [
      "DNA Sequence: CGAAAAGAATAGGCTGCAAGTTGCAGTTCCTTTCAACTCGAGCGCCCCAT\n",
      "\n",
      "Base Counts: {'A': 14, 'C': 14, 'G': 11, 'T': 11}\n",
      "Base Ratios: {'A': 0.28, 'C': 0.28, 'G': 0.22, 'T': 0.22}\n"
     ]
    }
   ],
   "source": [
    "import random\n",
    "\n",
    "\n",
    "# DNA 시퀀스 생성\n",
    "len_seq = 50\n",
    "dna_seq = ''.join([random.choice('ACGT') for _ in range(len_seq)])\n",
    "print(f'DNA Sequence: {dna_seq}')\n",
    "\n",
    "# 각 염기의 등장 횟수와 비율 계산\n",
    "base_count = {base: dna_seq.count(base) for base in 'ACGT'}\n",
    "base_ratio = {base: count / len_seq for base, count in base_count.items()}\n",
    "\n",
    "# 결과 출력\n",
    "print(\"\\nBase Counts:\", base_count)\n",
    "print(\"Base Ratios:\", base_ratio)"
   ]
  },
  {
   "cell_type": "markdown",
   "id": "0a95e3ee",
   "metadata": {},
   "source": [
    "<h1> DNA 서열을 RNA 서열로 변환\n",
    "\n",
    "<h3> - 작위로 생성된 DNA 서열을 RNA 서열로 전사(transcription) 하는 과정을 나타냈다."
   ]
  },
  {
   "cell_type": "code",
   "execution_count": 21,
   "id": "17c5e1e9",
   "metadata": {},
   "outputs": [
    {
     "name": "stdout",
     "output_type": "stream",
     "text": [
      "DNA Sequence: GTGGTGCATGCCATCCATTGATGCCTTTCT\n",
      "RNA Sequence: GUGGUGCAUGCCAUCCAUUGAUGCCUUUCU\n"
     ]
    }
   ],
   "source": [
    "import random\n",
    "\n",
    "# DNA 시퀀스 생성\n",
    "len_seq = 30\n",
    "dna_seq = ''.join([random.choice('ACGT') for _ in range(len_seq)])\n",
    "print(f'DNA Sequence: {dna_seq}')\n",
    "\n",
    "# RNA로 변환 (T -> U)\n",
    "rna_seq = dna_seq.replace('T', 'U')\n",
    "print(f'RNA Sequence: {rna_seq}')\n"
   ]
  }
 ],
 "metadata": {
  "kernelspec": {
   "display_name": "base",
   "language": "python",
   "name": "python3"
  },
  "language_info": {
   "codemirror_mode": {
    "name": "ipython",
    "version": 3
   },
   "file_extension": ".py",
   "mimetype": "text/x-python",
   "name": "python",
   "nbconvert_exporter": "python",
   "pygments_lexer": "ipython3",
   "version": "3.12.7"
  }
 },
 "nbformat": 4,
 "nbformat_minor": 5
}
